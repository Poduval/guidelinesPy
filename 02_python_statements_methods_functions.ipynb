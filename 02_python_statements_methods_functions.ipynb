{
 "cells": [
  {
   "cell_type": "markdown",
   "metadata": {},
   "source": [
    "<strong><font color='green' size=\"6\" >PYTHON STATEMENTS</font></strong> \n",
    "\n",
    "Learning about statements will allow you to be able to read other languages more easily in the future. If already know \n",
    "a different language this will rapidly accelerate your understanding of Python.\n",
    "\n",
    "**Indentation:** It is important to keep a good understanding of how indentation works in Python to maintain the structure and order of your code. Python is heavily driven by code indentation and whitespace, this means that code readability is a core part of the design of the Python language. e.g.\n",
    "           \n",
    "    if x:\n",
    "        if y:\n",
    "            code-statement\n",
    "    else:\n",
    "        another-code-statement"
   ]
  },
  {
   "cell_type": "markdown",
   "metadata": {},
   "source": [
    "# if, elif, else Statements\n",
    "\n",
    "`if` statements in Python allows us to tell the computer: \n",
    "    \n",
    "\"*Hey `if` this case happens, perform some action*\". \n",
    "\n",
    "We can then expand the idea further with `elif` and `else` statements, which allow us to tell the computer: \n",
    "\n",
    "\"*Hey `if` this case happens, perform some action. `Else, if` another case happens, perform some other action. `Else, if` none of the above cases happened, perform this action*\" \n",
    "\n",
    "code format:\n",
    "\n",
    "    if condition_01:\n",
    "        perform action_01\n",
    "    elif condition_02:\n",
    "        perform action_02\n",
    "    else: \n",
    "        perform action_03"
   ]
  },
  {
   "cell_type": "code",
   "execution_count": 1,
   "metadata": {},
   "outputs": [
    {
     "name": "stdout",
     "output_type": "stream",
     "text": [
      "Welcome to the HDFC Bank private limited!\n"
     ]
    }
   ],
   "source": [
    "bank_name = 'HDFC'\n",
    "\n",
    "if bank_name == 'HDFC':\n",
    "    print('Welcome to the HDFC Bank private limited!')\n",
    "elif bank_name == 'SBI':\n",
    "    print('Welcome to the State bank of India!')\n",
    "else:\n",
    "    print('The bank is unknown to us!')"
   ]
  },
  {
   "cell_type": "markdown",
   "metadata": {},
   "source": [
    "# for Loops\n",
    "\n",
    "A `for` loop acts as an iterator in Python; it goes through items that are in a **sequence** or any other iterable item. \n",
    "\n",
    "code format:\n",
    "\n",
    "    for item in object:\n",
    "        statements to do stuff\n",
    "        \n",
    "The variable name used for the `item` is completely up to you. This `item` name can then be referenced inside your loop."
   ]
  },
  {
   "cell_type": "markdown",
   "metadata": {},
   "source": [
    "**Iterating through a list**"
   ]
  },
  {
   "cell_type": "code",
   "execution_count": 2,
   "metadata": {},
   "outputs": [
    {
     "name": "stdout",
     "output_type": "stream",
     "text": [
      "1\n",
      "2\n",
      "3\n",
      "4\n",
      "5\n",
      "6\n",
      "7\n",
      "8\n",
      "9\n",
      "10\n"
     ]
    }
   ],
   "source": [
    "my_list = [1,2,3,4,5,6,7,8,9,10]\n",
    "\n",
    "for list_elements in my_list:\n",
    "    print(list_elements)"
   ]
  },
  {
   "cell_type": "markdown",
   "metadata": {},
   "source": [
    "Printing only the even numbers from that list! using the `if` statement"
   ]
  },
  {
   "cell_type": "code",
   "execution_count": 3,
   "metadata": {},
   "outputs": [
    {
     "name": "stdout",
     "output_type": "stream",
     "text": [
      "2\n",
      "4\n",
      "6\n",
      "8\n",
      "10\n"
     ]
    }
   ],
   "source": [
    "for list_elements in my_list:\n",
    "    if list_elements % 2 == 0:\n",
    "        print(list_elements)"
   ]
  },
  {
   "cell_type": "markdown",
   "metadata": {},
   "source": [
    "Sum of the elements in the list"
   ]
  },
  {
   "cell_type": "code",
   "execution_count": 4,
   "metadata": {},
   "outputs": [
    {
     "name": "stdout",
     "output_type": "stream",
     "text": [
      "55\n"
     ]
    }
   ],
   "source": [
    "sum_of_list_elements = 0 \n",
    "\n",
    "for list_elements in my_list:\n",
    "    # sum_of_list_elements = sum_of_list_elements + list_elements\n",
    "    sum_of_list_elements += list_elements\n",
    "\n",
    "print(sum_of_list_elements)"
   ]
  },
  {
   "cell_type": "markdown",
   "metadata": {},
   "source": [
    "**Iterating through a strings**\n",
    "\n",
    "Strings are a sequence so when we iterate through them we will be accessing each item in that string."
   ]
  },
  {
   "cell_type": "code",
   "execution_count": null,
   "metadata": {
    "scrolled": true
   },
   "outputs": [],
   "source": [
    "for letter in 'This is a string':\n",
    "    print(letter)"
   ]
  },
  {
   "cell_type": "markdown",
   "metadata": {},
   "source": [
    "**Iterating through a tuple**\n",
    "\n",
    "Tuples have a special quality when it comes to `for` loops. If you are iterating through a sequence that contains tuples, the item can actually be the tuple itself, this is an example of *tuple unpacking*. During the `for` loop we will be unpacking the tuple inside of a sequence and we can access the individual items inside that tuple. The reason this is important is because many objects will deliver their iterables through tuples."
   ]
  },
  {
   "cell_type": "code",
   "execution_count": null,
   "metadata": {},
   "outputs": [],
   "source": [
    "my_tuple = (1,2,3,4,5)\n",
    "\n",
    "for tuple_elements in my_tuple:\n",
    "    print(tuple_elements)"
   ]
  },
  {
   "cell_type": "code",
   "execution_count": null,
   "metadata": {},
   "outputs": [],
   "source": [
    "my_tuple_list = [(2,4),(6,8),(10,12)]\n",
    "\n",
    "for tuple in my_tuple_list:\n",
    "    print(tuple)\n",
    "    \n",
    "print('\\nNow with tuple unpacking\\n')\n",
    "\n",
    "for (t1, t2) in my_tuple_list:\n",
    "    print(t1)"
   ]
  },
  {
   "cell_type": "markdown",
   "metadata": {},
   "source": [
    "**Iterating through a Dictionaries**"
   ]
  },
  {
   "cell_type": "code",
   "execution_count": null,
   "metadata": {},
   "outputs": [],
   "source": [
    "my_dict = {'k1':1,'k2':2,'k3':3}\n",
    "\n",
    "for dict_elements in my_dict:\n",
    "    print(dict_elements)\n",
    "    \n",
    "print('\\nDictionary unpacking\\n')\n",
    "print(my_dict.items()); print('\\n')\n",
    "\n",
    "for keys,values in my_dict.items():\n",
    "    print(keys)\n",
    "    print(values) "
   ]
  },
  {
   "cell_type": "markdown",
   "metadata": {},
   "source": [
    "# while Loops\n",
    "A `while` statement will repeatedly execute a single statement or group of statements as long as the condition is true. The general format of a while loop is:\n",
    "\n",
    "    while condition:\n",
    "        code statements\n",
    "    else:\n",
    "        some other code statements\n",
    "        \n",
    "        \n",
    "<strong><font color='red'>CAUTION !!! DO NOT RUN THIS CODE </font></strong> \n",
    "\n",
    "    while True:\n",
    "        print(\"I'm stuck in an infinite loop!\")"
   ]
  },
  {
   "cell_type": "code",
   "execution_count": null,
   "metadata": {
    "scrolled": true
   },
   "outputs": [],
   "source": [
    "iteration = 0\n",
    "target = 10\n",
    "\n",
    "while iteration < target:\n",
    "    print('iteration =',iteration,', which is still less than the value defined above, moving on to the next iteration')\n",
    "    iteration+=1\n",
    "else:\n",
    "    print('\\n !! All Done !!, the iteration has reached the defined target =', target)"
   ]
  },
  {
   "cell_type": "markdown",
   "metadata": {},
   "source": [
    "**break, continue, pass**\n",
    "\n",
    "`break`, `continue`, and `pass` statements in our loops are additional functionality for various cases.\n",
    "\n",
    "- `break`: Breaks out of the current closest enclosing loop.\n",
    "- `continue`: Goes to the top of the closest enclosing loop.\n",
    "- `pass`: Does nothing at all.\n",
    "\n",
    "`break` and `continue` statements can appear anywhere inside the loop’s body, but usually put use them with an `if` statement to perform an action based on some condition."
   ]
  },
  {
   "cell_type": "code",
   "execution_count": null,
   "metadata": {},
   "outputs": [],
   "source": [
    "x = 0\n",
    "b = 6\n",
    "\n",
    "while x < 10:\n",
    "    print('x = ', x)\n",
    "    x+=1\n",
    "    if x==b:\n",
    "        print('Breaking because x is even')\n",
    "        break        \n",
    "    else:\n",
    "        print('continuing...')\n",
    "        continue"
   ]
  },
  {
   "cell_type": "markdown",
   "metadata": {},
   "source": [
    "# Some other useful operators\n",
    "What is a **`generator`**? \n",
    "\n",
    "Its a special type of function that will generate information and not need to save it to memory. We need to cast the **`generator`** function to a list with `list()` so to actually get a list out of it.\n",
    "\n",
    "## range\n",
    "\n",
    "The range function allows to quickly generate a list of integers. There are 3 parameters we can pass, a `start`, a `stop`, and a `step` size."
   ]
  },
  {
   "cell_type": "code",
   "execution_count": 10,
   "metadata": {},
   "outputs": [
    {
     "name": "stdout",
     "output_type": "stream",
     "text": [
      "<class 'range'>\n",
      "[0, 1, 2, 3, 4, 5, 6, 7, 8, 9, 10]\n"
     ]
    }
   ],
   "source": [
    "my_range = range(0, 11, 1)\n",
    "print(type(my_range))\n",
    "\n",
    "# Notice how 11 is not included, up to but not including 11, just like slice notation!\n",
    "print(list(my_range))"
   ]
  },
  {
   "cell_type": "markdown",
   "metadata": {},
   "source": [
    "## enumerate\n",
    "\n",
    "`enumerate` is a very useful function to use with `for` loops. The enumerate was created so you don't need to worry about creating and updating this `index_count` or `loop_count` variable."
   ]
  },
  {
   "cell_type": "code",
   "execution_count": 18,
   "metadata": {},
   "outputs": [
    {
     "name": "stdout",
     "output_type": "stream",
     "text": [
      "at index 0 the letter is a\n",
      "at index 1 the letter is b\n",
      "at index 2 the letter is c\n",
      "\n",
      "\n",
      "[(0, 'a'), (1, 'b'), (2, 'c')]\n"
     ]
    }
   ],
   "source": [
    "my_string = 'abc'\n",
    "\n",
    "for i,letter in enumerate(my_string):\n",
    "    print(\"at index {} the letter is {}\".format(i,letter))\n",
    "\n",
    "# Notice the format (tuples) enumerate actually returns\n",
    "print('\\n')\n",
    "print(list(enumerate(my_string))) "
   ]
  },
  {
   "cell_type": "markdown",
   "metadata": {},
   "source": [
    "## zip\n",
    "`zip()` function quickly creates a list of tuples by \"zipping\" up together two lists. This can be used as a generator in a for loop."
   ]
  },
  {
   "cell_type": "code",
   "execution_count": 8,
   "metadata": {},
   "outputs": [
    {
     "name": "stdout",
     "output_type": "stream",
     "text": [
      "[(1, 'a'), (2, 'b'), (3, 'c'), (4, 'd'), (5, 'e')] \n",
      "\n",
      "The first item is: 1 and the second item is a\n",
      "The first item is: 2 and the second item is b\n",
      "The first item is: 3 and the second item is c\n",
      "The first item is: 4 and the second item is d\n",
      "The first item is: 5 and the second item is e\n"
     ]
    }
   ],
   "source": [
    "my_list_1 = [1,2,3,4,5]\n",
    "my_list_2 = ['a','b','c','d','e']\n",
    "my_zip = list(zip(my_list_1,my_list_2))\n",
    "print(my_zip, '\\n')\n",
    "\n",
    "for item_1, item_2 in my_zip:\n",
    "    print('The first item is: {} and the second item is {}'.format(item_1, item_2))"
   ]
  },
  {
   "cell_type": "markdown",
   "metadata": {},
   "source": [
    "## in operator\n",
    "We've already seen the `in` keyword during the `for` loop. We can also use it to quickly check if an object is in a list."
   ]
  },
  {
   "cell_type": "code",
   "execution_count": 10,
   "metadata": {},
   "outputs": [
    {
     "data": {
      "text/plain": [
       "False"
      ]
     },
     "execution_count": 10,
     "metadata": {},
     "output_type": "execute_result"
    }
   ],
   "source": [
    "'x' in [1,2,3]"
   ]
  },
  {
   "cell_type": "code",
   "execution_count": 11,
   "metadata": {},
   "outputs": [
    {
     "data": {
      "text/plain": [
       "True"
      ]
     },
     "execution_count": 11,
     "metadata": {},
     "output_type": "execute_result"
    }
   ],
   "source": [
    "'x' in ['x','y','z']"
   ]
  },
  {
   "cell_type": "markdown",
   "metadata": {},
   "source": [
    "## min and max\n",
    "Quickly check the minimum or maximum of a list with these functions."
   ]
  },
  {
   "cell_type": "code",
   "execution_count": 13,
   "metadata": {},
   "outputs": [
    {
     "name": "stdout",
     "output_type": "stream",
     "text": [
      "minimum value in the list is:  10\n",
      "maximum value in the list is:  100\n"
     ]
    }
   ],
   "source": [
    "my_list = [10,20,30,40,100]\n",
    "print('minimum value in the list is: ', min(my_list))\n",
    "print('maximum value in the list is: ', max(my_list))"
   ]
  },
  {
   "cell_type": "markdown",
   "metadata": {},
   "source": [
    "## random\n",
    "Python comes with a built in random library. There are a lot of functions included in this random library, let's check two useful functions for now.\n",
    "\n",
    "This following code meaning it won't return anything, instead it will effect the list passed."
   ]
  },
  {
   "cell_type": "code",
   "execution_count": 18,
   "metadata": {},
   "outputs": [
    {
     "name": "stdout",
     "output_type": "stream",
     "text": [
      "[100, 10, 30, 40, 20]\n",
      "89\n"
     ]
    }
   ],
   "source": [
    "from random import shuffle\n",
    "from random import randint\n",
    "\n",
    "shuffle(my_list); print(my_list) # shuffles the list \"in-place\" \n",
    "print(randint(0,100)) # Return random integer in range [a, b], including both end points."
   ]
  },
  {
   "cell_type": "markdown",
   "metadata": {},
   "source": [
    "## input"
   ]
  },
  {
   "cell_type": "code",
   "execution_count": 19,
   "metadata": {},
   "outputs": [
    {
     "name": "stdout",
     "output_type": "stream",
     "text": [
      "Enter Something into this box: hello\n"
     ]
    },
    {
     "data": {
      "text/plain": [
       "'hello'"
      ]
     },
     "execution_count": 19,
     "metadata": {},
     "output_type": "execute_result"
    }
   ],
   "source": [
    "input('Enter Something into this box: ')"
   ]
  },
  {
   "cell_type": "markdown",
   "metadata": {},
   "source": [
    "# List Comprehensions\n",
    "\n",
    "List comprehensions allows to build out lists using a different notation. You can think of it as essentially a one line `for` loop built inside of brackets."
   ]
  },
  {
   "cell_type": "code",
   "execution_count": 22,
   "metadata": {},
   "outputs": [
    {
     "name": "stdout",
     "output_type": "stream",
     "text": [
      "['w', 'o', 'r', 'd']\n",
      "[0, 1, 4, 9, 16, 25, 36, 49, 64, 81, 100]\n",
      "[0, 2, 4, 6, 8, 10]\n"
     ]
    }
   ],
   "source": [
    "print([x for x in 'word']) # Grab every letter in string\n",
    "print([x**2 for x in range(0,11)]) # Square numbers in range and turn into list\n",
    "print([x for x in range(11) if x % 2 == 0]) # Check for even numbers in a range"
   ]
  },
  {
   "cell_type": "code",
   "execution_count": null,
   "metadata": {},
   "outputs": [],
   "source": []
  }
 ],
 "metadata": {
  "kernelspec": {
   "display_name": "Python 3",
   "language": "python",
   "name": "python3"
  },
  "language_info": {
   "codemirror_mode": {
    "name": "ipython",
    "version": 3
   },
   "file_extension": ".py",
   "mimetype": "text/x-python",
   "name": "python",
   "nbconvert_exporter": "python",
   "pygments_lexer": "ipython3",
   "version": "3.6.5"
  },
  "toc": {
   "base_numbering": 1,
   "nav_menu": {},
   "number_sections": true,
   "sideBar": true,
   "skip_h1_title": false,
   "title_cell": "Table of Contents",
   "title_sidebar": "Contents",
   "toc_cell": false,
   "toc_position": {
    "height": "calc(100% - 180px)",
    "left": "10px",
    "top": "150px",
    "width": "202px"
   },
   "toc_section_display": true,
   "toc_window_display": true
  }
 },
 "nbformat": 4,
 "nbformat_minor": 2
}
