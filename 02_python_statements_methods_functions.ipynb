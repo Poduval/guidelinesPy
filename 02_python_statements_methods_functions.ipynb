{
 "cells": [
  {
   "cell_type": "markdown",
   "metadata": {},
   "source": [
    "# Python Statements\n",
    "Learning about statements will allow you to be able to read other languages more easily in the future. If already know \n",
    "a different language this will rapidly accelerate your understanding of Python.\n",
    "\n",
    "**Indentation:** It is important to keep a good understanding of how indentation works in Python to maintain the structure and order of your code. Python is heavily driven by code indentation and whitespace, this means that code readability is a core part of the design of the Python language. e.g.\n",
    "           \n",
    "    if x:\n",
    "        if y:\n",
    "            code-statement\n",
    "    else:\n",
    "        another-code-statement"
   ]
  },
  {
   "cell_type": "markdown",
   "metadata": {},
   "source": [
    "## if, elif, else Statements\n",
    "\n",
    "`if` statements in Python allows us to tell the computer: \n",
    "    \n",
    "\"*Hey `if` this case happens, perform some action*\". \n",
    "\n",
    "We can then expand the idea further with `elif` and `else` statements, which allow us to tell the computer: \n",
    "\n",
    "\"*Hey `if` this case happens, perform some action. `Else, if` another case happens, perform some other action. `Else, if` none of the above cases happened, perform this action*\" \n",
    "\n",
    "code format:\n",
    "\n",
    "    if condition_01:\n",
    "        perform action_01\n",
    "    elif condition_02:\n",
    "        perform action_02\n",
    "    else: \n",
    "        perform action_03"
   ]
  },
  {
   "cell_type": "code",
   "execution_count": null,
   "metadata": {},
   "outputs": [],
   "source": [
    "bank_name = 'HDFC'\n",
    "\n",
    "if bank_name == 'HDFC':\n",
    "    print('Welcome to the HDFC Bank private limited!')\n",
    "elif bank_name == 'SBI':\n",
    "    print('Welcome to the State bank of India!')\n",
    "else:\n",
    "    print('The bank is unknown to us!')"
   ]
  },
  {
   "cell_type": "markdown",
   "metadata": {},
   "source": [
    "## for Loops\n",
    "\n",
    "A `for` loop acts as an iterator in Python; it goes through items that are in a **sequence** or any other iterable item. \n",
    "\n",
    "code format:\n",
    "\n",
    "    for item in object:\n",
    "        statements to do stuff\n",
    "        \n",
    "The variable name used for the `item` is completely up to you. This `item` name can then be referenced inside your loop."
   ]
  },
  {
   "cell_type": "markdown",
   "metadata": {},
   "source": [
    "**Iterating through a list**"
   ]
  },
  {
   "cell_type": "code",
   "execution_count": null,
   "metadata": {},
   "outputs": [],
   "source": [
    "my_list = [1,2,3,4,5,6,7,8,9,10]\n",
    "\n",
    "for list_elements in my_list:\n",
    "    print(list_elements)"
   ]
  },
  {
   "cell_type": "markdown",
   "metadata": {},
   "source": [
    "Printing only the even numbers from that list! using the `if` statement"
   ]
  },
  {
   "cell_type": "code",
   "execution_count": null,
   "metadata": {},
   "outputs": [],
   "source": [
    "for list_elements in my_list:\n",
    "    if list_elements % 2 == 0:\n",
    "        print(list_elements)"
   ]
  },
  {
   "cell_type": "markdown",
   "metadata": {},
   "source": [
    "Sum of the elements in the list"
   ]
  },
  {
   "cell_type": "code",
   "execution_count": null,
   "metadata": {},
   "outputs": [],
   "source": [
    "sum_of_list_elements = 0 \n",
    "\n",
    "for list_elements in my_list:\n",
    "    # sum_of_list_elements = sum_of_list_elements + list_elements\n",
    "    sum_of_list_elements += list_elements\n",
    "\n",
    "print(sum_of_list_elements)"
   ]
  },
  {
   "cell_type": "markdown",
   "metadata": {},
   "source": [
    "**Iterating through a strings**\n",
    "\n",
    "Strings are a sequence so when we iterate through them we will be accessing each item in that string."
   ]
  },
  {
   "cell_type": "code",
   "execution_count": null,
   "metadata": {
    "scrolled": true
   },
   "outputs": [],
   "source": [
    "for letter in 'This is a string':\n",
    "    print(letter)"
   ]
  },
  {
   "cell_type": "markdown",
   "metadata": {},
   "source": [
    "**Iterating through a tuple**\n",
    "\n",
    "Tuples have a special quality when it comes to `for` loops. If you are iterating through a sequence that contains tuples, the item can actually be the tuple itself, this is an example of *tuple unpacking*. During the `for` loop we will be unpacking the tuple inside of a sequence and we can access the individual items inside that tuple. The reason this is important is because many objects will deliver their iterables through tuples."
   ]
  },
  {
   "cell_type": "code",
   "execution_count": null,
   "metadata": {},
   "outputs": [],
   "source": [
    "my_tuple = (1,2,3,4,5)\n",
    "\n",
    "for tuple_elements in my_tuple:\n",
    "    print(tuple_elements)"
   ]
  },
  {
   "cell_type": "code",
   "execution_count": null,
   "metadata": {},
   "outputs": [],
   "source": [
    "my_tuple_list = [(2,4),(6,8),(10,12)]\n",
    "\n",
    "for tuple in my_tuple_list:\n",
    "    print(tuple)\n",
    "    \n",
    "print('\\nNow with tuple unpacking\\n')\n",
    "\n",
    "for (t1, t2) in my_tuple_list:\n",
    "    print(t1)"
   ]
  },
  {
   "cell_type": "markdown",
   "metadata": {},
   "source": [
    "**Iterating through a Dictionaries**"
   ]
  },
  {
   "cell_type": "code",
   "execution_count": null,
   "metadata": {},
   "outputs": [],
   "source": [
    "my_dict = {'k1':1,'k2':2,'k3':3}\n",
    "\n",
    "for dict_elements in my_dict:\n",
    "    print(dict_elements)\n",
    "    \n",
    "print('\\nDictionary unpacking\\n')\n",
    "print(my_dict.items()); print('\\n')\n",
    "\n",
    "for keys,values in my_dict.items():\n",
    "    print(keys)\n",
    "    print(values) "
   ]
  },
  {
   "cell_type": "code",
   "execution_count": null,
   "metadata": {},
   "outputs": [],
   "source": []
  }
 ],
 "metadata": {
  "kernelspec": {
   "display_name": "Python 3",
   "language": "python",
   "name": "python3"
  },
  "language_info": {
   "codemirror_mode": {
    "name": "ipython",
    "version": 3
   },
   "file_extension": ".py",
   "mimetype": "text/x-python",
   "name": "python",
   "nbconvert_exporter": "python",
   "pygments_lexer": "ipython3",
   "version": "3.6.5"
  }
 },
 "nbformat": 4,
 "nbformat_minor": 2
}
