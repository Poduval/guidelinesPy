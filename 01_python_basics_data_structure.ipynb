{
 "cells": [
  {
   "cell_type": "markdown",
   "metadata": {
    "slideshow": {
     "slide_type": "slide"
    }
   },
   "source": [
    "# Python basics\n",
    "Python is an interpreted, high-level, **general-purpose** programming language. It can be easy to pick up whether you're a first time programmer or you're experienced with other languages. Please find below some useful links.\n",
    "\n",
    "[https://www.python.org](https://www.python.org)\n",
    "\n",
    "[https://docs.python.org/3.6/index.html](https://docs.python.org/3.6/index.html)\n",
    "\n",
    "[https://jupyter.org/](https://jupyter.org/)\n",
    "\n"
   ]
  },
  {
   "cell_type": "markdown",
   "metadata": {
    "slideshow": {
     "slide_type": "slide"
    }
   },
   "source": [
    "## Files and folder path\n",
    "Python has a built-in open function that allows us to open and play with basic file types."
   ]
  },
  {
   "cell_type": "code",
   "execution_count": null,
   "metadata": {},
   "outputs": [],
   "source": [
    "pwd # current working folder path"
   ]
  },
  {
   "cell_type": "code",
   "execution_count": null,
   "metadata": {
    "scrolled": true
   },
   "outputs": [],
   "source": [
    "%%writefile my_file.txt\n",
    "Statisticians are the coolest."
   ]
  },
  {
   "cell_type": "code",
   "execution_count": null,
   "metadata": {},
   "outputs": [],
   "source": [
    "my_file = open(file='my_file.txt')\n",
    "print(my_file.read()) # read the file\n",
    "my_file.seek(0) # Seek to the start of file\n",
    "print(my_file.readlines()) # returns a list of the lines in the file\n",
    "my_file.close() # When you have finished using a file, it is always good practice to close it."
   ]
  },
  {
   "cell_type": "code",
   "execution_count": null,
   "metadata": {},
   "outputs": [],
   "source": [
    "# alternet way to open a file\n",
    "\n",
    "with open(file='my_file.txt',mode='r') as my_file:\n",
    "    contents = my_file.read()\n",
    "    \n",
    "print(contents)"
   ]
  },
  {
   "cell_type": "markdown",
   "metadata": {},
   "source": [
    "### <strong><font color='red'>Caution !!</font></strong> \n",
    "Opening a file with `'w'` or `'w+'` truncates the original, meaning that anything that was in the original file will be **deleted**. It allows us to read and write to the file though."
   ]
  },
  {
   "cell_type": "code",
   "execution_count": null,
   "metadata": {},
   "outputs": [],
   "source": [
    "my_file = open('my_file.txt','w+'); print(my_file.readlines())\n",
    "my_file.write('This is a new line')\n",
    "my_file.read()\n",
    "my_file.seek(0)\n",
    "print(my_file.readlines())\n",
    "my_file.close() "
   ]
  },
  {
   "cell_type": "markdown",
   "metadata": {},
   "source": [
    "### Appending to a File\n",
    "Passing the argument `'a'` opens the file and puts the pointer at the end, so anything written is appended. Like `'w+'`, `'a+'` lets us read and write to a file. If the file does not exist, one will be created. We  can also append with `%%writefile`."
   ]
  },
  {
   "cell_type": "code",
   "execution_count": null,
   "metadata": {},
   "outputs": [],
   "source": [
    "my_file = open('my_file.txt','a+')\n",
    "my_file.write('\\nAdding a second line to the text file.')\n",
    "my_file.write('\\nAdding a third line to the text file.')\n",
    "my_file.seek(0)\n",
    "print(my_file.readlines())\n",
    "my_file.close() "
   ]
  },
  {
   "cell_type": "code",
   "execution_count": null,
   "metadata": {},
   "outputs": [],
   "source": [
    "%%writefile -a my_file.txt\n",
    "\n",
    "Adding a fourth line using writefile.\n",
    "Adding a fifth line using writefile."
   ]
  },
  {
   "cell_type": "markdown",
   "metadata": {
    "slideshow": {
     "slide_type": "slide"
    }
   },
   "source": [
    "## Types of objects\n",
    "* **Integers (int):** whole numbers, e.g. `2 200 20000` etc.\n",
    "* **Floating point (float):** numbers with a decimal point, e.g. `2.3 200.50 2000.56` etc.\n",
    "* **Strings (str):** ordered sequence of characters, e.g. `\"hello\",\"Rakesh\",\"2000\"` etc.\n",
    "* **Lists (list):** ordered sequence of objects, e.g. `[2,\"hello\",2.2]`\n",
    "* **Dictionaries (dict):** unordered key-value pairs, e.g. `{\"my_key\":\"key_value\", \"first_name\":\"Rakesh\"}`\n",
    "* **Tuples (tup):** ordered immutable sequence of objects, e.g. `(2,\"hello\",2.2)` \n",
    "* **Sets (set):** unordered collection of unique objects, e.g. `(\"a\",\"b\")`  \n",
    "* **Booleans (bool):** logical value indicating `True`, or `False`"
   ]
  },
  {
   "cell_type": "markdown",
   "metadata": {
    "slideshow": {
     "slide_type": "slide"
    }
   },
   "source": [
    "## Variable assignments\n",
    "We use a single `=` sign to assign values/labels to variables (`variable_name = object`). The names you use when creating these labels need to follow a few rules:\n",
    "\n",
    "* Names can't start with a number.\n",
    "* Spaces are not allowed in the name, use `_` instead.\n",
    "* Can't use any of the following symbols - `'\",<>/?|\\()!@#$%^&*~-+`.\n",
    "* The best practice to name them is in `lowercase`.\n",
    "* Avoid using the characters `l, O or I` as single character variable names.\n",
    "* Avoid using words that have special meaning in Python like `list` and `str`.\n",
    "\n",
    "Python uses *dynamic typing*, meaning you can reassign variables to different data types. This makes Python very flexible in assigning data types and speed up developement time. Note that this may result in unexpected bugs, you need to be aware of. You can check what type of object is assigned to a variable using Python's built-in `type()` function. Common data types include"
   ]
  },
  {
   "cell_type": "markdown",
   "metadata": {
    "slideshow": {
     "slide_type": "slide"
    }
   },
   "source": [
    "## Math operations - (int & float)\n",
    "Basically these are performed on integers and floating points."
   ]
  },
  {
   "cell_type": "code",
   "execution_count": null,
   "metadata": {},
   "outputs": [],
   "source": [
    "print(2+1) # Addition\n",
    "print(2-1) # Subtraction\n",
    "print(2*2) # Multiplication\n",
    "print(3/2) # Division\n",
    "print(7%4) # Modulo,The % operator returns the remainder after division.\n",
    "print(7//4) # Floor Division,truncates the decimal without rounding and returns an integer result.\n",
    "print(2**3) # Powers\n",
    "print(4**0.5) # Can also do roots this way\n",
    "print(3+10*10-3) # Order of Operations followed in Python\n",
    "print((2+8)*(13-3)) # Can use parentheses to specify orders"
   ]
  },
  {
   "cell_type": "code",
   "execution_count": null,
   "metadata": {},
   "outputs": [],
   "source": [
    "# assigning variables\n",
    "my_dogs = 2; print(my_dogs); print(type(my_dogs))\n",
    "my_dogs = ['Sammy', 'Frankie']; print(my_dogs); print(type(my_dogs))"
   ]
  },
  {
   "cell_type": "code",
   "execution_count": null,
   "metadata": {},
   "outputs": [],
   "source": [
    "# re-use assigned variables\n",
    "a = 5; print(a)\n",
    "a = a + a; print(a)\n",
    "a += 10; print(a)\n",
    "a *= 2; print(a)"
   ]
  },
  {
   "cell_type": "code",
   "execution_count": null,
   "metadata": {},
   "outputs": [],
   "source": [
    "# Simple Exercise\n",
    "my_income = 100\n",
    "tax_rate = 0.10\n",
    "my_tax_amount = my_income*tax_rate\n",
    "print(my_tax_amount); type(my_tax_amount)"
   ]
  },
  {
   "cell_type": "markdown",
   "metadata": {
    "slideshow": {
     "slide_type": "slide"
    }
   },
   "source": [
    "## String operations - (str)\n",
    "Strings in Python are actually a ordered sequence. It keeps track of every element in the string as a sequence. *e.g.* Python understands the string `\"hello\"` to be a sequence of letters in a specific order. This means we will be able to use **indexing** to grab particular letters (like the *first letter*, *last letter* etc.)."
   ]
  },
  {
   "cell_type": "code",
   "execution_count": null,
   "metadata": {},
   "outputs": [],
   "source": [
    "print('hello') # Single word, we can also use double quote\n",
    "print('This is also a string') # Entire phrase\n",
    "print('Use \\n to print a new line')\n",
    "print('Use \\t to inserts a tab or space into a string')\n",
    "print('See what I mean?')"
   ]
  },
  {
   "cell_type": "code",
   "execution_count": null,
   "metadata": {},
   "outputs": [],
   "source": [
    "# Be careful with quotes. \n",
    "' I'm using single quotes, but this will create an error' "
   ]
  },
  {
   "cell_type": "markdown",
   "metadata": {},
   "source": [
    "The reason for the error above is because the single quote in `I'm` stopped the string. You can use combinations of double and single quotes to get the complete statement."
   ]
  },
  {
   "cell_type": "code",
   "execution_count": null,
   "metadata": {},
   "outputs": [],
   "source": [
    "\"Now I'm ready to use the single quotes inside a string!\" "
   ]
  },
  {
   "cell_type": "markdown",
   "metadata": {},
   "source": [
    "### String basics, indexing and slicing\n",
    "* `[]` - used after an object to call its **index**. Note that **indexing** starts at `0` for Python. \n",
    "* `:` - used to perform **slicing** which grabs everything up to a designated point (`[start:stop:step]`)\n",
    "* `len()` - used to check the **length** of a string. "
   ]
  },
  {
   "cell_type": "code",
   "execution_count": null,
   "metadata": {},
   "outputs": [],
   "source": [
    "my_string = 'Hello World' # assigning a string\n",
    "\n",
    "# Shows everything\n",
    "print(my_string)\n",
    "print(my_string[:])\n",
    "\n",
    "print(len(my_string)) # length of the string including spaces\n",
    "print(my_string[0]) # Shows first element \n",
    "print(my_string[1]) # Shows second element\n",
    "print(my_string[-1]) # Shows last letter (one index behind 0 so it loops back around)\n",
    "print(my_string[1:]) # Shows everything post the first index\n",
    "print(my_string[:3]) # Shows everything up to the 3rd index\n",
    "print(my_string[:-1]) # Shows everything but the last letter\n",
    "\n",
    "print(my_string[::1]) # Shows everything, but jumps in steps = 1\n",
    "print(my_string[::2]) # Shows everything, but jumps in steps = 2\n",
    "print(my_string[::-1]) # trick to print the string backwards"
   ]
  },
  {
   "cell_type": "markdown",
   "metadata": {},
   "source": [
    "### String properties\n",
    "It's important to note that strings have an important property known as **immutability**. This means that once a string is created, the elements within it can not be changed or replaced."
   ]
  },
  {
   "cell_type": "code",
   "execution_count": null,
   "metadata": {},
   "outputs": [],
   "source": [
    "my_string[0] = 'x' # Let's try to change the first letter to 'x'"
   ]
  },
  {
   "cell_type": "markdown",
   "metadata": {},
   "source": [
    "Notice how the error tells us directly what we can't do, change the item assignment!"
   ]
  },
  {
   "cell_type": "code",
   "execution_count": null,
   "metadata": {},
   "outputs": [],
   "source": [
    "my_string = my_string+' good morning !!' # Concatenate strings\n",
    "print(my_string) \n",
    "print('a'*10) #  multiplication symbol to create repetition"
   ]
  },
  {
   "cell_type": "markdown",
   "metadata": {},
   "source": [
    "### String methods\n",
    "Objects in Python usually have built-in methods. These methods are functions inside the object that can perform actions or commands on the object itself i.e.\n",
    "\n",
    "`object.method(parameters)`, where `parameters` are extra arguments we can pass into the method."
   ]
  },
  {
   "cell_type": "code",
   "execution_count": null,
   "metadata": {},
   "outputs": [],
   "source": [
    "print(my_string.upper()) # Upper Case\n",
    "print(my_string.lower()) # Lower case\n",
    "print(my_string.split()) # Split by blank space (default)\n",
    "print(my_string.split('W')) # Split by a specific (won't be included) element"
   ]
  },
  {
   "cell_type": "markdown",
   "metadata": {},
   "source": [
    "### String formatting\n",
    "String formatting lets you inject items into a string rather than trying to chain items together using commas or string concatenation. e.g. for a quick comparison refer the code below :\n",
    "\n",
    "`student_name, student_score = 'Rakesh', 70`\n",
    "\n",
    "`student_name+' scored '+str(student_score)+' points.'` - **concatenation**  \n",
    "\n",
    "`f'{student_name} scored {student_score} points.'` - **string formatting**\n",
    "\n",
    "There are 3 ways to perform string formatting.\n",
    "\n",
    "* **Formatting with placeholders** - Oldest method, involves using the modulo character `%`(referred as the *string formatting operator*) to inject strings into your print statements.\n",
    "\n",
    "* **Formatting with the `.format()` method** - A better way to format objects into your strings for print statements. Following are the advantages:\n",
    "    * Inserted objects can be called by index position.\n",
    "    * Inserted objects can be assigned keywords.\n",
    "    * Inserted objects can be reused, avoiding duplication\n",
    "    * ...\n",
    "    * Within the curly braces you can assign field lengths, left/right alignments, rounding parameters and more\n",
    "    * You can pass an optional `<`,`^`, or `>` to set a left, center or right alignment\n",
    "    * You can precede the aligment operator with a padding character\n",
    "    \n",
    "* **Formatted String Literals** (`f-strings`) - Newest method, introduced in Python 3.6, `f-strings` offer several benefits over the older `.format()` string method described above. For one, you can bring outside variables immediately into to the string rather than pass them as arguments through `.format(var)`.\n",
    "\n",
    "**examples**:"
   ]
  },
  {
   "cell_type": "code",
   "execution_count": null,
   "metadata": {},
   "outputs": [],
   "source": [
    "# Formatting with placeholders\n",
    "student_name, student_score = 'Rakesh', 70\n",
    "print(\"Name of the student is %s.\" % student_name) # single input\n",
    "print(\"%s has scored %s in the final exam.\" % (student_name, student_score)) # multiple input"
   ]
  },
  {
   "cell_type": "code",
   "execution_count": null,
   "metadata": {},
   "outputs": [],
   "source": [
    "# Formatting with the .format() method\n",
    "print('Name of the student is {}'.format(student_name))\n",
    "print('{0} has scored {1} in the final exam.'.format(student_name,student_score)) "
   ]
  },
  {
   "cell_type": "code",
   "execution_count": null,
   "metadata": {},
   "outputs": [],
   "source": [
    "# Formatting with f-strings\n",
    "print(f\"Name of the student is {student_name}\")\n",
    "print(f\"{student_name} has scored {student_score} in the final exam.\")"
   ]
  },
  {
   "cell_type": "markdown",
   "metadata": {
    "slideshow": {
     "slide_type": "slide"
    }
   },
   "source": [
    "## Lists operations - (list)\n",
    "Lists can be thought of the most general version of a sequence in Python. Unlike strings, they are mutable, meaning the elements inside a list can be changed. Lists are constructed with brackets `[]` and `commas` separating every element in the list. It supports **indexing** and **slicing**. Lists can be nested and also have a variety of useful methods that can be called off of them."
   ]
  },
  {
   "cell_type": "code",
   "execution_count": null,
   "metadata": {},
   "outputs": [],
   "source": [
    "my_list = [1,2,3] # Assign a list to an variable named my_list\n",
    "my_list = ['A string',23,100.232,'o'] # lists can actually hold different object types\n",
    "print(my_list)\n",
    "print(len(my_list))"
   ]
  },
  {
   "cell_type": "markdown",
   "metadata": {},
   "source": [
    "### List basics, indexing & slicing\n",
    "Indexing and slicing work just like in `strings`. "
   ]
  },
  {
   "cell_type": "code",
   "execution_count": null,
   "metadata": {},
   "outputs": [],
   "source": [
    "my_list = ['a','b','c','3','4']\n",
    "print(my_list[0]) # Grab element at index 0\n",
    "print(my_list[1:]) # Grab index 1 and everything past it\n",
    "print(my_list + ['new item']) # Use '+' to concatenate lists, just like we did for strings.\n",
    "print(my_list*2) # Make the list double"
   ]
  },
  {
   "cell_type": "markdown",
   "metadata": {},
   "source": [
    "### List methods\n",
    "Lists in Python tend to be more flexible than arrays in other languages for a two good reasons:\n",
    "\n",
    "* they have no fixed size (meaning we don't have to specify how big a list will be) \n",
    "* they have no fixed type constraint (like we've seen above).\n",
    "\n",
    "few basic methods are mentioned below:\n",
    "\n",
    "* `append`: Adds an item to the end of a list permanently\n",
    "* `pop`: Pops off an item from the list. By default pop takes off the last index, but we can also specify which index to pop off.\n",
    "* `reverse`: Reverse order permanently.\n",
    "* `sort`: Sorts the list (**letters** - alphabetical, **numbers**-ascending)"
   ]
  },
  {
   "cell_type": "code",
   "execution_count": null,
   "metadata": {},
   "outputs": [],
   "source": [
    "my_list.append('newly appended'); print(my_list)\n",
    "my_list.pop(); print(my_list)\n",
    "my_list.reverse(); print(my_list)\n",
    "my_list.sort(); print(my_list)"
   ]
  },
  {
   "cell_type": "markdown",
   "metadata": {},
   "source": [
    "### Nesting Lists\n",
    "A great feature of of Python data structures is that they support **nesting**. This means we can have data structures within data structures."
   ]
  },
  {
   "cell_type": "code",
   "execution_count": null,
   "metadata": {},
   "outputs": [],
   "source": [
    "list_1 = [1,2,3]\n",
    "list_2 = [4,5,6]\n",
    "list_3 = [7,8,9]\n",
    "nested_list = [list_1,list_2,list_3]\n",
    "print(nested_list)\n",
    "print(nested_list[0]) # Grab first item in matrix object\n",
    "print(nested_list[0][0]) # Grab first item of the first item in the matrix object"
   ]
  },
  {
   "cell_type": "markdown",
   "metadata": {
    "slideshow": {
     "slide_type": "slide"
    }
   },
   "source": [
    "## Dictionaries - (dict)\n",
    "Dictionaries are unordered *mappings* for storing objects. *Mappings* are a collection of objects that are stored by a *key*, unlike a sequence that stored objects by their relative position. A Python dictionary consists of a key and then an associated value. That value can be almost any Python object. It allows users to quickly grab objects without needing to know an index location. It's important to note that dictionaries are very flexible in the data types they can hold. For example:"
   ]
  },
  {
   "cell_type": "code",
   "execution_count": null,
   "metadata": {},
   "outputs": [],
   "source": [
    "my_dict = {'key_1':'value_1','key_2':'value_2'} # Make a dictionary with {} and :\n",
    "print(my_dict['key_2']) # Call values by their key\n",
    "\n",
    "my_dict = {'k1':123,'k2':[1,2,3],'k3':['item_1','item_2','item_3']}\n",
    "print(my_dict['k3'])\n",
    "print(my_dict['k3'][0])\n",
    "print(my_dict['k3'][0].upper()) # Can then even call methods on that value\n",
    "print(my_dict['k1'] - 123) # Subtract 123 from the value\n",
    "my_dict['k1'] -= 123\n",
    "# print(my_dict['k1'])"
   ]
  },
  {
   "cell_type": "markdown",
   "metadata": {},
   "source": [
    "### Nesting Dictionaries\n",
    "Like lists dictionary can be nested inside a dictionary:"
   ]
  },
  {
   "cell_type": "code",
   "execution_count": null,
   "metadata": {},
   "outputs": [],
   "source": [
    "nested_dict = {'key':{'nested_key':{'sub_nested_key':'value'}}}\n",
    "print(nested_dict['key']['nested_key']['sub_nested_key'])"
   ]
  },
  {
   "cell_type": "markdown",
   "metadata": {},
   "source": [
    "### Dictionary Methods\n",
    "There are a few methods we can call on a dictionary."
   ]
  },
  {
   "cell_type": "code",
   "execution_count": null,
   "metadata": {},
   "outputs": [],
   "source": [
    "print(my_dict.keys()) # return a list of all keys\n",
    "print(my_dict.values()) # grab all values\n",
    "print(my_dict.items()) # return tuples of all items"
   ]
  },
  {
   "cell_type": "markdown",
   "metadata": {
    "slideshow": {
     "slide_type": "slide"
    }
   },
   "source": [
    "## Tuples - (tup)\n",
    "In Python tuples are very similar to lists, however, unlike lists they are **immutable** meaning they can not be changed. You would use tuples to present things that shouldn't be changed, such as days of the week, or dates on a calendar. It uses parenthesis : `(1,2,3)`\n",
    "To be honest, tuples are not used as often as lists in programming, but are used when immutability is necessary"
   ]
  },
  {
   "cell_type": "code",
   "execution_count": null,
   "metadata": {},
   "outputs": [],
   "source": [
    "my_tuple = (1,2,'three')\n",
    "print(my_tuple)\n",
    "print(len(my_tuple))"
   ]
  },
  {
   "cell_type": "code",
   "execution_count": null,
   "metadata": {
    "scrolled": true
   },
   "outputs": [],
   "source": [
    "print(my_tuple[0]) # indexing\n",
    "print(my_tuple[-1]) # Slicing"
   ]
  },
  {
   "cell_type": "markdown",
   "metadata": {},
   "source": [
    "### Tuple Methods\n",
    "Tuples have built-in methods, but not as many as lists do."
   ]
  },
  {
   "cell_type": "code",
   "execution_count": null,
   "metadata": {},
   "outputs": [],
   "source": [
    "my_tuple.index('three') # enter a value and return the index\n",
    "my_tuple.count(2) # count the number of times a value appears"
   ]
  },
  {
   "cell_type": "markdown",
   "metadata": {
    "slideshow": {
     "slide_type": "slide"
    }
   },
   "source": [
    "## Set and Booleans - (set & bool)\n",
    "**Sets** are an unordered collection of **unique** elements. We can cast a `list` with multiple repeat elements to a `set` to get the unique elements.\n",
    "Python comes with **Booleans** (with predefined True and False displays that are basically just the integers 1 and 0). It also has a placeholder object called None."
   ]
  },
  {
   "cell_type": "code",
   "execution_count": null,
   "metadata": {},
   "outputs": [],
   "source": [
    "# sets\n",
    "my_set = set()\n",
    "my_set.add(1); print(my_set)\n",
    "my_set.add(2); print(my_set)\n",
    "my_set.add(1); print(my_set) # Try to add the same element\n",
    "print(set([1,1,2,2,3,4,5,6,1,1])) # takes unique elements only"
   ]
  },
  {
   "cell_type": "code",
   "execution_count": null,
   "metadata": {},
   "outputs": [],
   "source": [
    "# booleans\n",
    "my_bool = True; print(my_bool)\n",
    "print(type(my_bool))\n",
    "print(my_bool*1)\n",
    "print(1 > 2) # Output is boolean"
   ]
  }
 ],
 "metadata": {
  "kernelspec": {
   "display_name": "Python 3",
   "language": "python",
   "name": "python3"
  },
  "language_info": {
   "codemirror_mode": {
    "name": "ipython",
    "version": 3
   },
   "file_extension": ".py",
   "mimetype": "text/x-python",
   "name": "python",
   "nbconvert_exporter": "python",
   "pygments_lexer": "ipython3",
   "version": "3.6.5"
  }
 },
 "nbformat": 4,
 "nbformat_minor": 2
}
